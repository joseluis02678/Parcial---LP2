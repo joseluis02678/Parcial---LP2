from base import EstadisticaBase
# Crear un objeto con datos de ejemplo
datos = [10, 12, 14, 16, 18, 20]
estad = EstadisticaBase(datos)

# Calcular estadísticas básicas
print("Datos:", datos)
print("Cantidad de datos:", estad.contar_datos())
print("Suma:", estad.suma())
print("Media:", estad.media())
print("Mediana:", estad.mediana())
print("Moda:", estad.moda())
print("Varianza:", estad.varianza())
print("Desviación estándar:", estad.desviacion_estandar())
print("Rango:", estad.rango())
print("Coeficiente de variación (%):", estad.coeficiente_variacion())
