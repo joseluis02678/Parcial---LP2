import os, sys

# Agregar la carpeta donde están tus .py al PATH
sys.path.append(os.path.abspath("../estadística_lib/estadistica"))

# Confirmar que se agregó correctamente
print("Ruta agregada:", os.path.abspath("../estadística_lib/estadistica"))

from inferencia import DistribucionesMuestrales, IC
from cuantitativos import MedidasCuantitativas
from base import EstadisticaBase

print(" Módulos importados correctamente")
