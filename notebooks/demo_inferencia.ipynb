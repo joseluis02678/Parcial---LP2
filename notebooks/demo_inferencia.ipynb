import os, sys

# 🔹 Cambia esta ruta por donde están tus archivos .py
ruta_modulos = r"C:\Users\Jose\Documentos\UNALM\Estadistica\src"

# 🔹 Agregar al sistema de búsqueda de módulos
sys.path.append(ruta_modulos)

print("Ruta agregada:", ruta_modulos)
